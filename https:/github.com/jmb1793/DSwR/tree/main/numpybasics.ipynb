{
    "cells": [
        {
            "metadata": {},
            "cell_type": "markdown",
            "source": "<center>\n    <img src=\"https://s3-api.us-geo.objectstorage.softlayer.net/cf-courses-data/CognitiveClass/Logos/organization_logo/organization_logo.png\" width=\"300\" alt=\"cognitiveclass.ai logo\"  />\n</center>\n\n# 1D Numpy in Python\n\nEstimated time needed: **30** minutes\n\n## Objectives\n\nAfter completing this lab you will be able to:\n\n-   Import and use `numpy` library\n-   Perform operations with `numpy`\n"
        },
        {
            "metadata": {},
            "cell_type": "markdown",
            "source": "<h2>Table of Contents</h2>\n<div class=\"alert alert-block alert-info\" style=\"margin-top: 20px\">\n    <ul>\n        <li><a href=\"pre\">Preparation</a></li>\n        <li>\n            <a href=\"numpy\">What is Numpy?</a>\n            <ul>\n                <li><a href=\"type\">Type</a></li>\n                <li><a href=\"val\">Assign Value</a></li>\n                <li><a href=\"slice\">Slicing</a></li>\n                <li><a href=\"list\">Assign Value with List</a></li>\n                <li><a href=\"other\">Other Attributes</a></li>\n            </ul>\n        </li>\n        <li>\n            <a href=\"op\">Numpy Array Operations</a>\n            <ul>\n                <li><a href=\"add\">Array Addition</a></li>\n                <li><a href=\"multi\">Array Multiplication</a></li>\n                <li><a href=\"prod\">Product of Two Numpy Arrays</a></li>\n                <li><a href=\"dot\">Dot Product</a></li>\n                <li><a href=\"cons\">Adding Constant to a Numpy Array</a></li>\n            </ul>\n        </li>\n        <li><a href=\"math\">Mathematical Functions</a></li>\n        <li><a href=\"lin\">Linspace</a></li>\n    </ul>\n\n</div>\n\n<hr>\n"
        },
        {
            "metadata": {},
            "cell_type": "markdown",
            "source": "<h2 id=\"pre\">Preparation</h2>\n"
        },
        {
            "metadata": {
                "jupyter": {
                    "outputs_hidden": true
                }
            },
            "cell_type": "code",
            "source": "# Import the libraries\n\nimport time \nimport sys\nimport numpy as np \n\nimport matplotlib.pyplot as plt\n%matplotlib inline  ",
            "execution_count": 1,
            "outputs": []
        },
        {
            "metadata": {},
            "cell_type": "code",
            "source": "# Plotting functions\n\ndef Plotvec1(u, z, v):\n    \n    ax = plt.axes()\n    ax.arrow(0, 0, *u, head_width=0.05, color='r', head_length=0.1)\n    plt.text(*(u + 0.1), 'u')\n    \n    ax.arrow(0, 0, *v, head_width=0.05, color='b', head_length=0.1)\n    plt.text(*(v + 0.1), 'v')\n    ax.arrow(0, 0, *z, head_width=0.05, head_length=0.1)\n    plt.text(*(z + 0.1), 'z')\n    plt.ylim(-2, 2)\n    plt.xlim(-2, 2)\n\ndef Plotvec2(a,b):\n    ax = plt.axes()\n    ax.arrow(0, 0, *a, head_width=0.05, color ='r', head_length=0.1)\n    plt.text(*(a + 0.1), 'a')\n    ax.arrow(0, 0, *b, head_width=0.05, color ='b', head_length=0.1)\n    plt.text(*(b + 0.1), 'b')\n    plt.ylim(-2, 2)\n    plt.xlim(-2, 2)",
            "execution_count": 3,
            "outputs": []
        },
        {
            "metadata": {},
            "cell_type": "markdown",
            "source": "Create a Python List as follows:\n"
        },
        {
            "metadata": {},
            "cell_type": "code",
            "source": "# Create a python list\n\na = [\"0\", 1, \"two\", \"3\", 4]",
            "execution_count": 5,
            "outputs": []
        },
        {
            "metadata": {},
            "cell_type": "markdown",
            "source": "We can access the data via an index:\n"
        },
        {
            "metadata": {},
            "cell_type": "markdown",
            "source": "<img src=\"https://cf-courses-data.s3.us.cloud-object-storage.appdomain.cloud/IBMDeveloperSkillsNetwork-PY0101EN-SkillsNetwork/labs/Module%205/images/NumOneList.png\" width=\"660\" />\n"
        },
        {
            "metadata": {},
            "cell_type": "markdown",
            "source": "We can access each element using a square bracket as follows: \n"
        },
        {
            "metadata": {},
            "cell_type": "code",
            "source": "# Print each element\n\nprint(\"a[0]:\", a[0])\nprint(\"a[1]:\", a[1])\nprint(\"a[2]:\", a[2])\nprint(\"a[3]:\", a[3])\nprint(\"a[4]:\", a[4])",
            "execution_count": 6,
            "outputs": [
                {
                    "output_type": "stream",
                    "text": "a[0]: 0\na[1]: 1\na[2]: two\na[3]: 3\na[4]: 4\n",
                    "name": "stdout"
                }
            ]
        },
        {
            "metadata": {},
            "cell_type": "markdown",
            "source": "<hr>\n"
        },
        {
            "metadata": {},
            "cell_type": "markdown",
            "source": "<h2 id=\"numpy\">What is Numpy?</h2>\n"
        },
        {
            "metadata": {},
            "cell_type": "markdown",
            "source": "A numpy array is similar to a list. It's usually fixed in size and each element is of the same type. We can cast a list to a numpy array by first importing numpy: \n"
        },
        {
            "metadata": {},
            "cell_type": "code",
            "source": "# import numpy library\n\nimport numpy as np ",
            "execution_count": 7,
            "outputs": []
        },
        {
            "metadata": {},
            "cell_type": "markdown",
            "source": " We then cast the list as follows:\n"
        },
        {
            "metadata": {},
            "cell_type": "code",
            "source": "# Create a numpy array\n\na = np.array([0, 1, 2, 3, 4])\na",
            "execution_count": 8,
            "outputs": [
                {
                    "output_type": "execute_result",
                    "execution_count": 8,
                    "data": {
                        "text/plain": "array([0, 1, 2, 3, 4])"
                    },
                    "metadata": {}
                }
            ]
        },
        {
            "metadata": {},
            "cell_type": "markdown",
            "source": "Each element is of the same type, in this case integers: \n"
        },
        {
            "metadata": {},
            "cell_type": "markdown",
            "source": "<img src=\"https://cf-courses-data.s3.us.cloud-object-storage.appdomain.cloud/IBMDeveloperSkillsNetwork-PY0101EN-SkillsNetwork/labs/Module%205/images/NumOneNp.png\" width=\"500\" />\n"
        },
        {
            "metadata": {},
            "cell_type": "markdown",
            "source": " As with lists, we can access each element via a square bracket:\n"
        },
        {
            "metadata": {},
            "cell_type": "code",
            "source": "# Print each element\n\nprint(\"a[0]:\", a[0])\nprint(\"a[1]:\", a[1])\nprint(\"a[2]:\", a[2])\nprint(\"a[3]:\", a[3])\nprint(\"a[4]:\", a[4])",
            "execution_count": 9,
            "outputs": [
                {
                    "output_type": "stream",
                    "text": "a[0]: 0\na[1]: 1\na[2]: 2\na[3]: 3\na[4]: 4\n",
                    "name": "stdout"
                }
            ]
        },
        {
            "metadata": {},
            "cell_type": "markdown",
            "source": "<h3 id=\"type\">Type</h3>\n"
        },
        {
            "metadata": {},
            "cell_type": "markdown",
            "source": "If we check the type of the array we get <b>numpy.ndarray</b>:\n"
        },
        {
            "metadata": {},
            "cell_type": "code",
            "source": "# Check the type of the array\n\ntype(a)",
            "execution_count": 10,
            "outputs": [
                {
                    "output_type": "execute_result",
                    "execution_count": 10,
                    "data": {
                        "text/plain": "numpy.ndarray"
                    },
                    "metadata": {}
                }
            ]
        },
        {
            "metadata": {},
            "cell_type": "markdown",
            "source": "As numpy arrays contain data of the same type, we can use the attribute \"dtype\" to obtain the Data-type of the array\u2019s elements. In this case a 64-bit integer: \n"
        },
        {
            "metadata": {},
            "cell_type": "code",
            "source": "# Check the type of the values stored in numpy array\n\na.dtype",
            "execution_count": 11,
            "outputs": [
                {
                    "output_type": "execute_result",
                    "execution_count": 11,
                    "data": {
                        "text/plain": "dtype('int64')"
                    },
                    "metadata": {}
                }
            ]
        },
        {
            "metadata": {},
            "cell_type": "markdown",
            "source": "We can create a numpy array with real numbers:\n"
        },
        {
            "metadata": {},
            "cell_type": "code",
            "source": "# Create a numpy array\n\nb = np.array([3.1, 11.02, 6.2, 213.2, 5.2])",
            "execution_count": 13,
            "outputs": []
        },
        {
            "metadata": {},
            "cell_type": "markdown",
            "source": "When we check the type of the array we get <b>numpy.ndarray</b>:\n"
        },
        {
            "metadata": {},
            "cell_type": "code",
            "source": "# Check the type of array\n\ntype(b)",
            "execution_count": 14,
            "outputs": [
                {
                    "output_type": "execute_result",
                    "execution_count": 14,
                    "data": {
                        "text/plain": "numpy.ndarray"
                    },
                    "metadata": {}
                }
            ]
        },
        {
            "metadata": {},
            "cell_type": "markdown",
            "source": "If we examine the attribute <code>dtype</code> we see float 64, as the elements are not integers: \n"
        },
        {
            "metadata": {},
            "cell_type": "code",
            "source": "# Check the value type\n\nb.dtype",
            "execution_count": 15,
            "outputs": [
                {
                    "output_type": "execute_result",
                    "execution_count": 15,
                    "data": {
                        "text/plain": "dtype('float64')"
                    },
                    "metadata": {}
                }
            ]
        },
        {
            "metadata": {},
            "cell_type": "markdown",
            "source": "<h3 id=\"val\">Assign value</h3>\n"
        },
        {
            "metadata": {},
            "cell_type": "markdown",
            "source": "We can change the value of the array, consider the array <code>c</code>:\n"
        },
        {
            "metadata": {},
            "cell_type": "code",
            "source": "# Create numpy array\n\nc = np.array([20, 1, 2, 3, 4])\nc",
            "execution_count": 16,
            "outputs": [
                {
                    "output_type": "execute_result",
                    "execution_count": 16,
                    "data": {
                        "text/plain": "array([20,  1,  2,  3,  4])"
                    },
                    "metadata": {}
                }
            ]
        },
        {
            "metadata": {},
            "cell_type": "markdown",
            "source": "We can change the first element of the array to 100 as follows:\n"
        },
        {
            "metadata": {},
            "cell_type": "code",
            "source": "# Assign the first element to 100\n\nc[0] = 100\nc",
            "execution_count": 17,
            "outputs": [
                {
                    "output_type": "execute_result",
                    "execution_count": 17,
                    "data": {
                        "text/plain": "array([100,   1,   2,   3,   4])"
                    },
                    "metadata": {}
                }
            ]
        },
        {
            "metadata": {},
            "cell_type": "markdown",
            "source": "We can change the 5th element of the array to 0 as follows:\n"
        },
        {
            "metadata": {},
            "cell_type": "code",
            "source": "# Assign the 5th element to 0\n\nc[4] = 0\nc",
            "execution_count": 18,
            "outputs": [
                {
                    "output_type": "execute_result",
                    "execution_count": 18,
                    "data": {
                        "text/plain": "array([100,   1,   2,   3,   0])"
                    },
                    "metadata": {}
                }
            ]
        },
        {
            "metadata": {},
            "cell_type": "markdown",
            "source": "<h3 id=\"slice\">Slicing</h3>\n"
        },
        {
            "metadata": {},
            "cell_type": "markdown",
            "source": "Like lists, we can slice the numpy array, and we can select the elements from 1 to 3 and assign it to a new numpy array <code>d</code> as follows:\n"
        },
        {
            "metadata": {},
            "cell_type": "code",
            "source": "# Slicing the numpy array\n\nd = c[1:4]\nd",
            "execution_count": 19,
            "outputs": [
                {
                    "output_type": "execute_result",
                    "execution_count": 19,
                    "data": {
                        "text/plain": "array([1, 2, 3])"
                    },
                    "metadata": {}
                }
            ]
        },
        {
            "metadata": {},
            "cell_type": "markdown",
            "source": "We can assign the corresponding indexes to  new values as follows: \n"
        },
        {
            "metadata": {},
            "cell_type": "code",
            "source": "# Set the fourth element and fifth element to 300 and 400\n\nc[3:5] = 300, 400\nc",
            "execution_count": 20,
            "outputs": [
                {
                    "output_type": "execute_result",
                    "execution_count": 20,
                    "data": {
                        "text/plain": "array([100,   1,   2, 300, 400])"
                    },
                    "metadata": {}
                }
            ]
        },
        {
            "metadata": {},
            "cell_type": "markdown",
            "source": "<h3 id=\"list\">Assign Value with List</h3>\n"
        },
        {
            "metadata": {},
            "cell_type": "markdown",
            "source": "Similarly, we can use a list to select a specific index.\nThe list ' select ' contains several values:\n"
        },
        {
            "metadata": {
                "jupyter": {
                    "outputs_hidden": true
                }
            },
            "cell_type": "code",
            "source": "# Create the index list\n\nselect = [0, 2, 3]",
            "execution_count": 25,
            "outputs": []
        },
        {
            "metadata": {},
            "cell_type": "markdown",
            "source": "We can use the list as an argument in the brackets. The output is the elements corresponding to the particular index:\n"
        },
        {
            "metadata": {},
            "cell_type": "code",
            "source": "# Use List to select elements\n\nd = c[select]\nd",
            "execution_count": 24,
            "outputs": [
                {
                    "output_type": "execute_result",
                    "execution_count": 24,
                    "data": {
                        "text/plain": "array([100000, 100000, 100000])"
                    },
                    "metadata": {}
                }
            ]
        },
        {
            "metadata": {},
            "cell_type": "markdown",
            "source": "We can assign the specified elements to a new value. For example, we can assign the values to 100 000 as follows:\n"
        },
        {
            "metadata": {},
            "cell_type": "code",
            "source": "# Assign the specified elements to new value\n\nc[select] = 100000\nc",
            "execution_count": 26,
            "outputs": [
                {
                    "output_type": "execute_result",
                    "execution_count": 26,
                    "data": {
                        "text/plain": "array([100000,      1, 100000, 100000,    400])"
                    },
                    "metadata": {}
                }
            ]
        },
        {
            "metadata": {},
            "cell_type": "markdown",
            "source": "<h3 id=\"other\">Other Attributes</h3>\n"
        },
        {
            "metadata": {},
            "cell_type": "markdown",
            "source": "Let's review some basic array attributes using the array <code>a</code>:\n"
        },
        {
            "metadata": {},
            "cell_type": "code",
            "source": "# Create a numpy array\n\na = np.array([0, 1, 2, 3, 4])\na",
            "execution_count": 27,
            "outputs": [
                {
                    "output_type": "execute_result",
                    "execution_count": 27,
                    "data": {
                        "text/plain": "array([0, 1, 2, 3, 4])"
                    },
                    "metadata": {}
                }
            ]
        },
        {
            "metadata": {},
            "cell_type": "markdown",
            "source": "The attribute <code>size</code> is the number of elements in the array:\n"
        },
        {
            "metadata": {},
            "cell_type": "code",
            "source": "# Get the size of numpy array\n\na.size",
            "execution_count": 28,
            "outputs": [
                {
                    "output_type": "execute_result",
                    "execution_count": 28,
                    "data": {
                        "text/plain": "5"
                    },
                    "metadata": {}
                }
            ]
        },
        {
            "metadata": {},
            "cell_type": "markdown",
            "source": "The next two attributes will make more sense when we get to higher dimensions but let's review them. The attribute <code>ndim</code> represents the number of array dimensions or the rank of the array, in this case, one:\n"
        },
        {
            "metadata": {},
            "cell_type": "code",
            "source": "# Get the number of dimensions of numpy array\n\na.ndim",
            "execution_count": 29,
            "outputs": [
                {
                    "output_type": "execute_result",
                    "execution_count": 29,
                    "data": {
                        "text/plain": "1"
                    },
                    "metadata": {}
                }
            ]
        },
        {
            "metadata": {},
            "cell_type": "markdown",
            "source": "The attribute <code>shape</code> is a tuple of integers indicating the size of the array in each dimension:\n"
        },
        {
            "metadata": {},
            "cell_type": "code",
            "source": "# Get the shape/size of numpy array\n\na.shape",
            "execution_count": 30,
            "outputs": [
                {
                    "output_type": "execute_result",
                    "execution_count": 30,
                    "data": {
                        "text/plain": "(5,)"
                    },
                    "metadata": {}
                }
            ]
        },
        {
            "metadata": {
                "jupyter": {
                    "outputs_hidden": true
                }
            },
            "cell_type": "code",
            "source": "# Create a numpy array\n\na = np.array([1, -1, 1, -1])",
            "execution_count": 31,
            "outputs": []
        },
        {
            "metadata": {},
            "cell_type": "code",
            "source": "# Get the mean of numpy array\n\nmean = a.mean()\nmean",
            "execution_count": 32,
            "outputs": [
                {
                    "output_type": "execute_result",
                    "execution_count": 32,
                    "data": {
                        "text/plain": "0.0"
                    },
                    "metadata": {}
                }
            ]
        },
        {
            "metadata": {},
            "cell_type": "code",
            "source": "# Get the standard deviation of numpy array\n\nstandard_deviation=a.std()\nstandard_deviation",
            "execution_count": 33,
            "outputs": [
                {
                    "output_type": "execute_result",
                    "execution_count": 33,
                    "data": {
                        "text/plain": "1.0"
                    },
                    "metadata": {}
                }
            ]
        },
        {
            "metadata": {},
            "cell_type": "code",
            "source": "# Create a numpy array\n\nb = np.array([-1, 2, 3, 4, 5])\nb",
            "execution_count": 34,
            "outputs": [
                {
                    "output_type": "execute_result",
                    "execution_count": 34,
                    "data": {
                        "text/plain": "array([-1,  2,  3,  4,  5])"
                    },
                    "metadata": {}
                }
            ]
        },
        {
            "metadata": {},
            "cell_type": "code",
            "source": "# Get the biggest value in the numpy array\n\nmax_b = b.max()\nmax_b",
            "execution_count": 35,
            "outputs": [
                {
                    "output_type": "execute_result",
                    "execution_count": 35,
                    "data": {
                        "text/plain": "5"
                    },
                    "metadata": {}
                }
            ]
        },
        {
            "metadata": {},
            "cell_type": "code",
            "source": "# Get the smallest value in the numpy array\n\nmin_b = b.min()\nmin_b",
            "execution_count": 36,
            "outputs": [
                {
                    "output_type": "execute_result",
                    "execution_count": 36,
                    "data": {
                        "text/plain": "-1"
                    },
                    "metadata": {}
                }
            ]
        },
        {
            "metadata": {},
            "cell_type": "markdown",
            "source": "<hr>\n"
        },
        {
            "metadata": {},
            "cell_type": "markdown",
            "source": "<h2 id=\"op\">Numpy Array Operations</h2>\n"
        },
        {
            "metadata": {},
            "cell_type": "markdown",
            "source": "<h3 id=\"add\">Array Addition</h3>\n"
        },
        {
            "metadata": {},
            "cell_type": "markdown",
            "source": "Consider the numpy array <code>u</code>:\n"
        },
        {
            "metadata": {},
            "cell_type": "code",
            "source": "u = np.array([1, 0])\nu",
            "execution_count": 37,
            "outputs": [
                {
                    "output_type": "execute_result",
                    "execution_count": 37,
                    "data": {
                        "text/plain": "array([1, 0])"
                    },
                    "metadata": {}
                }
            ]
        },
        {
            "metadata": {},
            "cell_type": "markdown",
            "source": "Consider the numpy array <code>v</code>:\n"
        },
        {
            "metadata": {},
            "cell_type": "code",
            "source": "v = np.array([0, 1])\nv",
            "execution_count": null,
            "outputs": []
        },
        {
            "metadata": {},
            "cell_type": "markdown",
            "source": "We can add the two arrays and assign it to z:\n"
        },
        {
            "metadata": {},
            "cell_type": "code",
            "source": "# Numpy Array Addition\n\nz = u + v\nz",
            "execution_count": null,
            "outputs": []
        },
        {
            "metadata": {},
            "cell_type": "markdown",
            "source": " The operation is equivalent to vector addition:\n"
        },
        {
            "metadata": {},
            "cell_type": "code",
            "source": "# Plot numpy arrays\n\nPlotvec1(u, z, v)",
            "execution_count": null,
            "outputs": []
        },
        {
            "metadata": {},
            "cell_type": "markdown",
            "source": "<h3 id=\"multi\">Array Multiplication</h3>\n"
        },
        {
            "metadata": {},
            "cell_type": "markdown",
            "source": "Consider the vector numpy array <code>y</code>:\n"
        },
        {
            "metadata": {},
            "cell_type": "code",
            "source": "# Create a numpy array\n\ny = np.array([1, 2])\ny",
            "execution_count": null,
            "outputs": []
        },
        {
            "metadata": {},
            "cell_type": "markdown",
            "source": "We can multiply every element in the array by 2:\n"
        },
        {
            "metadata": {},
            "cell_type": "code",
            "source": "# Numpy Array Multiplication\n\nz = 2 * y\nz",
            "execution_count": null,
            "outputs": []
        },
        {
            "metadata": {},
            "cell_type": "markdown",
            "source": " This is equivalent to multiplying a vector by a scaler: \n"
        },
        {
            "metadata": {},
            "cell_type": "markdown",
            "source": "<h3 id=\"prod\">Product of Two Numpy Arrays</h3>\n"
        },
        {
            "metadata": {},
            "cell_type": "markdown",
            "source": "Consider the following array <code>u</code>:\n"
        },
        {
            "metadata": {},
            "cell_type": "code",
            "source": "# Create a numpy array\n\nu = np.array([1, 2])\nu",
            "execution_count": null,
            "outputs": []
        },
        {
            "metadata": {},
            "cell_type": "markdown",
            "source": "Consider the following array <code>v</code>:\n"
        },
        {
            "metadata": {},
            "cell_type": "code",
            "source": "# Create a numpy array\n\nv = np.array([3, 2])\nv",
            "execution_count": null,
            "outputs": []
        },
        {
            "metadata": {},
            "cell_type": "markdown",
            "source": " The product of the two numpy arrays <code>u</code> and <code>v</code> is given by:\n"
        },
        {
            "metadata": {},
            "cell_type": "code",
            "source": "# Calculate the production of two numpy arrays\n\nz = u * v\nz",
            "execution_count": null,
            "outputs": []
        },
        {
            "metadata": {},
            "cell_type": "markdown",
            "source": "<h3 id=\"dot\">Dot Product</h3>\n"
        },
        {
            "metadata": {},
            "cell_type": "markdown",
            "source": "The dot product of the two numpy arrays <code>u</code> and <code>v</code> is given by:\n"
        },
        {
            "metadata": {},
            "cell_type": "code",
            "source": "# Calculate the dot product\n\nnp.dot(u, v)",
            "execution_count": null,
            "outputs": []
        },
        {
            "metadata": {},
            "cell_type": "markdown",
            "source": "<h3 id=\"cons\">Adding Constant to a Numpy Array</h3>\n"
        },
        {
            "metadata": {},
            "cell_type": "markdown",
            "source": "Consider the following array: \n"
        },
        {
            "metadata": {},
            "cell_type": "code",
            "source": "# Create a constant to numpy array\n\nu = np.array([1, 2, 3, -1]) \nu",
            "execution_count": null,
            "outputs": []
        },
        {
            "metadata": {},
            "cell_type": "markdown",
            "source": "Adding the constant 1 to each element in the array:\n"
        },
        {
            "metadata": {},
            "cell_type": "code",
            "source": "# Add the constant to array\n\nu + 1",
            "execution_count": null,
            "outputs": []
        },
        {
            "metadata": {},
            "cell_type": "markdown",
            "source": " The process is summarised in the following animation:\n"
        },
        {
            "metadata": {},
            "cell_type": "markdown",
            "source": "<img src=\"https://cf-courses-data.s3.us.cloud-object-storage.appdomain.cloud/IBMDeveloperSkillsNetwork-PY0101EN-SkillsNetwork/labs/Module%205/images/NumOneAdd.gif\" width=\"500\" />\n"
        },
        {
            "metadata": {},
            "cell_type": "markdown",
            "source": "<hr>\n"
        },
        {
            "metadata": {},
            "cell_type": "markdown",
            "source": "<h2 id=\"math\">Mathematical Functions</h2>\n"
        },
        {
            "metadata": {},
            "cell_type": "markdown",
            "source": " We can access the value of <code>pi</code> in numpy as follows :\n"
        },
        {
            "metadata": {},
            "cell_type": "code",
            "source": "# The value of pi\n\nnp.pi",
            "execution_count": null,
            "outputs": []
        },
        {
            "metadata": {},
            "cell_type": "markdown",
            "source": " We can create the following numpy array in Radians:\n"
        },
        {
            "metadata": {},
            "cell_type": "code",
            "source": "# Create the numpy array in radians\n\nx = np.array([0, np.pi/2 , np.pi])",
            "execution_count": null,
            "outputs": []
        },
        {
            "metadata": {},
            "cell_type": "markdown",
            "source": "We can apply the function <code>sin</code> to the array <code>x</code> and assign the values to the array <code>y</code>; this applies the sine function to each element in the array:  \n"
        },
        {
            "metadata": {},
            "cell_type": "code",
            "source": "# Calculate the sin of each elements\n\ny = np.sin(x)\ny",
            "execution_count": null,
            "outputs": []
        },
        {
            "metadata": {},
            "cell_type": "markdown",
            "source": "<hr>\n"
        },
        {
            "metadata": {},
            "cell_type": "markdown",
            "source": "<h2 id=\"lin\">Linspace</h2>\n"
        },
        {
            "metadata": {},
            "cell_type": "markdown",
            "source": " A useful function for plotting mathematical functions is <code>linspace</code>.   Linspace returns evenly spaced numbers over a specified interval. We specify the starting point of the sequence and the ending point of the sequence. The parameter \"num\" indicates the Number of samples to generate, in this case 5:\n"
        },
        {
            "metadata": {},
            "cell_type": "code",
            "source": "# Makeup a numpy array within [-2, 2] and 5 elements\n\nnp.linspace(-2, 2, num=5)",
            "execution_count": null,
            "outputs": []
        },
        {
            "metadata": {},
            "cell_type": "markdown",
            "source": "If we change the parameter <code>num</code> to 9, we get 9 evenly spaced numbers over the interval from -2 to 2: \n"
        },
        {
            "metadata": {},
            "cell_type": "code",
            "source": "# Makeup a numpy array within [-2, 2] and 9 elements\n\nnp.linspace(-2, 2, num=9)",
            "execution_count": null,
            "outputs": []
        },
        {
            "metadata": {},
            "cell_type": "markdown",
            "source": "We can use the function <code>linspace</code> to generate 100 evenly spaced samples from the interval 0 to 2\u03c0: \n"
        },
        {
            "metadata": {},
            "cell_type": "code",
            "source": "# Makeup a numpy array within [0, 2\u03c0] and 100 elements \n\nx = np.linspace(0, 2*np.pi, num=100)",
            "execution_count": null,
            "outputs": []
        },
        {
            "metadata": {},
            "cell_type": "markdown",
            "source": "We can apply the sine function to each element in the array <code>x</code> and assign it to the array <code>y</code>: \n"
        },
        {
            "metadata": {
                "collapsed": true,
                "jupyter": {
                    "outputs_hidden": true
                }
            },
            "cell_type": "code",
            "source": "# Calculate the sine of x list\n\ny = np.sin(x)",
            "execution_count": null,
            "outputs": []
        },
        {
            "metadata": {},
            "cell_type": "code",
            "source": "# Plot the result\n\nplt.plot(x, y)",
            "execution_count": null,
            "outputs": []
        },
        {
            "metadata": {},
            "cell_type": "markdown",
            "source": "<hr>\n"
        },
        {
            "metadata": {},
            "cell_type": "markdown",
            "source": "<h2 id=\"quiz\">Quiz on 1D Numpy Array</h2>\n"
        },
        {
            "metadata": {},
            "cell_type": "markdown",
            "source": "Implement the following vector subtraction in numpy: u-v\n"
        },
        {
            "metadata": {},
            "cell_type": "code",
            "source": "# Write your code below and press Shift+Enter to execute\n\nu = np.array([1, 0])\nv = np.array([0, 1])",
            "execution_count": null,
            "outputs": []
        },
        {
            "metadata": {},
            "cell_type": "markdown",
            "source": "<details><summary>Click here for the solution</summary>\n\n```python\nu - v\n```\n\n</details>\n"
        },
        {
            "metadata": {},
            "cell_type": "markdown",
            "source": "<hr>\n"
        },
        {
            "metadata": {},
            "cell_type": "markdown",
            "source": "Multiply the numpy array z with -2:\n"
        },
        {
            "metadata": {},
            "cell_type": "code",
            "source": "# Write your code below and press Shift+Enter to execute\n\nz = np.array([2, 4])",
            "execution_count": null,
            "outputs": []
        },
        {
            "metadata": {},
            "cell_type": "markdown",
            "source": "<details><summary>Click here for the solution</summary>\n\n```python\n-2 * z\n```\n\n</details>\n"
        },
        {
            "metadata": {},
            "cell_type": "markdown",
            "source": "<hr>\n"
        },
        {
            "metadata": {},
            "cell_type": "markdown",
            "source": "Consider the list <code>[1, 2, 3, 4, 5]</code> and <code>[1, 0, 1, 0, 1]</code>, and cast both lists to a numpy array then multiply them together:\n"
        },
        {
            "metadata": {},
            "cell_type": "code",
            "source": "# Write your code below and press Shift+Enter to execute\n",
            "execution_count": null,
            "outputs": []
        },
        {
            "metadata": {},
            "cell_type": "markdown",
            "source": "<details><summary>Click here for the solution</summary>\n\n```python\na = np.array([1, 2, 3, 4, 5])\nb = np.array([1, 0, 1, 0, 1])\na * b\n```\n\n</details>\n"
        },
        {
            "metadata": {},
            "cell_type": "markdown",
            "source": "<hr>\n"
        },
        {
            "metadata": {},
            "cell_type": "markdown",
            "source": "Convert the list <code>[-1, 1]</code> and <code>[1, 1]</code> to numpy arrays <code>a</code> and <code>b</code>.  Then, plot the arrays as vectors using the fuction <code>Plotvec2</code> and find the dot product:\n"
        },
        {
            "metadata": {},
            "cell_type": "code",
            "source": "# Write your code below and press Shift+Enter to execute\n",
            "execution_count": null,
            "outputs": []
        },
        {
            "metadata": {},
            "cell_type": "markdown",
            "source": "<details><summary>Click here for the solution</summary>\n\n```python\na = np.array([-1, 1])\nb = np.array([1, 1])\nPlotvec2(a, b)\nprint(\"The dot product is\", np.dot(a,b))\n\n```\n\n</details>\n"
        },
        {
            "metadata": {},
            "cell_type": "markdown",
            "source": "<hr>\n"
        },
        {
            "metadata": {},
            "cell_type": "markdown",
            "source": "Convert the list <code>[1, 0]</code> and <code>[0, 1]</code> to numpy arrays <code>a</code> and <code>b</code>. Then, plot the arrays as vectors using the function <code>Plotvec2</code> and find the dot product:\n"
        },
        {
            "metadata": {},
            "cell_type": "code",
            "source": "# Write your code below and press Shift+Enter to execute\n",
            "execution_count": null,
            "outputs": []
        },
        {
            "metadata": {},
            "cell_type": "markdown",
            "source": "<details><summary>Click here for the solution</summary>\n\n```python\na = np.array([1, 0])\nb = np.array([0, 1])\nPlotvec2(a, b)\nprint(\"The dot product is\", np.dot(a, b))\n\n```\n\n</details>\n"
        },
        {
            "metadata": {},
            "cell_type": "markdown",
            "source": "<hr>\n"
        },
        {
            "metadata": {},
            "cell_type": "markdown",
            "source": "Convert the list <code>[1, 1]</code> and <code>[0, 1]</code> to numpy arrays <code>a</code> and <code>b</code>. Then plot the arrays as vectors using the fuction <code>Plotvec2</code> and find the dot product:\n"
        },
        {
            "metadata": {},
            "cell_type": "code",
            "source": "# Write your code below and press Shift+Enter to execute\n",
            "execution_count": null,
            "outputs": []
        },
        {
            "metadata": {},
            "cell_type": "markdown",
            "source": "<details><summary>Click here for the solution</summary>\n\n```python\na = np.array([1, 1])\nb = np.array([0, 1])\nPlotvec2(a, b)\nprint(\"The dot product is\", np.dot(a, b))\nprint(\"The dot product is\", np.dot(a, b))\n\n```\n\n</details>\n \n"
        },
        {
            "metadata": {},
            "cell_type": "markdown",
            "source": "<hr>\n"
        },
        {
            "metadata": {},
            "cell_type": "markdown",
            "source": "Why are the results of the dot product for <code>[-1, 1]</code> and <code>[1, 1]</code> and the dot product for <code>[1, 0]</code> and <code>[0, 1]</code> zero, but not zero for the dot product for <code>[1, 1]</code> and <code>[0, 1]</code>? <p><i>Hint: Study the corresponding figures, pay attention to the direction the arrows are pointing to.</i></p>\n"
        },
        {
            "metadata": {},
            "cell_type": "code",
            "source": "# Write your code below and press Shift+Enter to execute\n",
            "execution_count": null,
            "outputs": []
        },
        {
            "metadata": {},
            "cell_type": "markdown",
            "source": "<details><summary>Click here for the solution</summary>\n\n```python\nThe vectors used for question 4 and 5 are perpendicular. As a result, the dot product is zero. \n\n```\n\n</details>\n \n"
        },
        {
            "metadata": {},
            "cell_type": "markdown",
            "source": "<hr>\n<h2>The last exercise!</h2>\n<p>Congratulations, you have completed your first lesson and hands-on lab in Python. However, there is one more thing you need to do. The Data Science community encourages sharing work. The best way to share and showcase your work is to share it on GitHub. By sharing your notebook on GitHub you are not only building your reputation with fellow data scientists, but you can also show it off when applying for a job. Even though this was your first piece of work, it is never too early to start building good habits. So, please read and follow <a href=\"https://cognitiveclass.ai/blog/data-scientists-stand-out-by-sharing-your-notebooks/\" target=\"_blank\">this article</a> to learn how to share your work.\n<hr>\n"
        },
        {
            "metadata": {},
            "cell_type": "markdown",
            "source": "## Author\n\n<a href=\"https://www.linkedin.com/in/joseph-s-50398b136/\" target=\"_blank\">Joseph Santarcangelo</a>\n\n## Other contributors\n\n<a href=\"www.linkedin.com/in/jiahui-mavis-zhou-a4537814a\">Mavis Zhou</a>\n\n## Change Log\n\n| Date (YYYY-MM-DD) | Version | Changed By | Change Description                 |\n| ----------------- | ------- | ---------- | ---------------------------------- |\n| 2020-08-26        | 2.0     | Lavanya    | Moved lab to course repo in GitLab |\n|                   |         |            |                                    |\n|                   |         |            |                                    |\n\n<hr/>\n\n## <h3 align=\"center\"> \u00a9 IBM Corporation 2020. All rights reserved. <h3/>\n"
        }
    ],
    "metadata": {
        "kernelspec": {
            "name": "python3",
            "display_name": "Python 3.7",
            "language": "python"
        },
        "language_info": {
            "name": "python",
            "version": "3.7.10",
            "mimetype": "text/x-python",
            "codemirror_mode": {
                "name": "ipython",
                "version": 3
            },
            "pygments_lexer": "ipython3",
            "nbconvert_exporter": "python",
            "file_extension": ".py"
        }
    },
    "nbformat": 4,
    "nbformat_minor": 4
}